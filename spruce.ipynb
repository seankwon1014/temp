{
 "cells": [
  {
   "cell_type": "code",
   "execution_count": 1,
   "metadata": {
    "colab": {},
    "colab_type": "code",
    "id": "jmN8RyuAI1q9"
   },
   "outputs": [],
   "source": [
    "%reset -f"
   ]
  },
  {
   "cell_type": "code",
   "execution_count": 2,
   "metadata": {
    "colab": {
     "base_uri": "https://localhost:8080/",
     "height": 35
    },
    "colab_type": "code",
    "id": "4FaQVvkJI5df",
    "outputId": "60236f3f-38d8-4504-f04c-fcc23948eaf3"
   },
   "outputs": [
    {
     "data": {
      "text/plain": [
       "0"
      ]
     },
     "execution_count": 2,
     "metadata": {},
     "output_type": "execute_result"
    }
   ],
   "source": [
    "import gc\n",
    "gc.collect()"
   ]
  },
  {
   "cell_type": "code",
   "execution_count": 3,
   "metadata": {},
   "outputs": [
    {
     "data": {
      "text/plain": [
       "svmem(total=64383717376, available=62788329472, percent=2.5, used=882528256, free=45877538816, active=1761943552, inactive=15867224064, buffers=326373376, cached=17297276928, shared=73728, slab=656019456)"
      ]
     },
     "execution_count": 3,
     "metadata": {},
     "output_type": "execute_result"
    }
   ],
   "source": [
    "import psutil\n",
    "psutil.virtual_memory()"
   ]
  },
  {
   "cell_type": "markdown",
   "metadata": {
    "colab_type": "text",
    "id": "0rCaYWoKYsOQ"
   },
   "source": [
    "## Import Modules"
   ]
  },
  {
   "cell_type": "code",
   "execution_count": 4,
   "metadata": {
    "colab": {},
    "colab_type": "code",
    "id": "LVYZwQ1-Odqs"
   },
   "outputs": [],
   "source": [
    "import pandas as pd\n",
    "import numpy as np\n",
    "import os\n",
    "import math\n",
    "# plot module\n",
    "import matplotlib.pyplot as plt \n",
    "import seaborn as sns\n",
    "import statsmodels.api as sm\n",
    "# import lightgbm as lgb\n",
    "from sklearn.metrics import confusion_matrix, classification_report\n",
    "%matplotlib inline\n",
    "plt.rc(\"font\", size=14)\n",
    "import seaborn as sns\n",
    "sns.set(style=\"white\")\n",
    "sns.set(style=\"whitegrid\", color_codes=True)"
   ]
  },
  {
   "cell_type": "markdown",
   "metadata": {
    "colab_type": "text",
    "id": "_HmzZfaLZIop"
   },
   "source": [
    "## Read data"
   ]
  },
  {
   "cell_type": "code",
   "execution_count": 5,
   "metadata": {
    "colab": {
     "base_uri": "https://localhost:8080/",
     "height": 53
    },
    "colab_type": "code",
    "id": "m8Sug8b8fyN3",
    "outputId": "31a0bb26-3950-46b6-aecf-aaf3bb08e74a"
   },
   "outputs": [
    {
     "name": "stderr",
     "output_type": "stream",
     "text": [
      "/home/ec2-user/anaconda3/envs/python3/lib/python3.6/site-packages/IPython/core/interactiveshell.py:2785: DtypeWarning: Columns (0) have mixed types. Specify dtype option on import or set low_memory=False.\n",
      "  interactivity=interactivity, compiler=compiler, result=result)\n"
     ]
    }
   ],
   "source": [
    "df = pd.read_csv('all.csv') # full dataset"
   ]
  },
  {
   "cell_type": "markdown",
   "metadata": {
    "colab_type": "text",
    "id": "i9OnDTmoy9hh"
   },
   "source": [
    "## Data Cleaning"
   ]
  },
  {
   "cell_type": "markdown",
   "metadata": {
    "colab_type": "text",
    "id": "QNYtjzKMZs5c"
   },
   "source": [
    "### Drop unnecessary variables "
   ]
  },
  {
   "cell_type": "code",
   "execution_count": 6,
   "metadata": {
    "colab": {},
    "colab_type": "code",
    "id": "9-bXwP7ozB9R"
   },
   "outputs": [],
   "source": [
    "df = df.drop(['DocumentNumberFormatted', 'ATTOM_ID', 'TransID', 'SitusCounty', 'PropertyAddressZIP',\t'PropertyAddressZIP4', 'E_ZIP_CODE', 'ZIP', 'ZIP4', 'dr_ForeclosureRecordingDate','TaxAssessedValueImprovements','TaxAssessedValueLand','PreviousAssessedValue',\n",
    "             'TaxMarketValueImprovements','TaxMarketValueLand','TaxMarketImprovementsPerc','AssessorPriorSaleAmount', 'AssessorLastSaleDate'], axis = 1)\n"
   ]
  },
  {
   "cell_type": "markdown",
   "metadata": {
    "colab_type": "text",
    "id": "KYKyMyNiQLqr"
   },
   "source": [
    "### Drop Nan rows in \"TaxAssessedImprovementsPerc\""
   ]
  },
  {
   "cell_type": "code",
   "execution_count": 7,
   "metadata": {
    "colab": {},
    "colab_type": "code",
    "id": "WUwvU0hKljyu"
   },
   "outputs": [],
   "source": [
    "df = df.dropna(subset=['TaxAssessedImprovementsPerc'])"
   ]
  },
  {
   "cell_type": "markdown",
   "metadata": {
    "colab_type": "text",
    "id": "YK2CiQVsh4Ai"
   },
   "source": [
    "\n",
    "\n",
    "### 0 to null"
   ]
  },
  {
   "cell_type": "code",
   "execution_count": 8,
   "metadata": {
    "colab": {},
    "colab_type": "code",
    "id": "CUQnotzxHohJ"
   },
   "outputs": [],
   "source": [
    "nan_list = ['Mortgage1Amount', 'TaxAssessedValueTotal', 'TaxMarketValueTotal', 'RoomsCount']\n",
    "for col in nan_list:\n",
    "  df[col] = df[col].replace(0, np.NaN)\n",
    "  df[col] = df[col].replace(0.0, np.NaN)"
   ]
  },
  {
   "cell_type": "code",
   "execution_count": 9,
   "metadata": {
    "colab": {},
    "colab_type": "code",
    "id": "ckWBQH7Ri4g7"
   },
   "outputs": [],
   "source": [
    "e_var = ['E_DENSITY',\t'E_POP10',\t'E_HH10',\t'E_FAMMAR18',\t'E_NONFAMHH',\t'E_TRAVHOME',\t'E_OOCCHH',\t'E_ROCCHH',\t'E_MORTANY',\t'E_NOMORT',\t'E_MED_BLT',\t'E_POV_TOTAL',\t'E_MEDAGE',\t'E_MEDHHSIZE',\t'E_MEDRENT',\t'E_MEDVALOCC',\t'E_MEDHHINC','E_SQMILES']\n",
    "for i in e_var:\n",
    "  df.loc[df['E_SQMILES']==0, i] = np.NaN"
   ]
  },
  {
   "cell_type": "markdown",
   "metadata": {
    "colab_type": "text",
    "id": "2q1bKS5KPBRq"
   },
   "source": [
    "### Checking the portion of forclosure 0 before dropna & choose the percentage for dropping"
   ]
  },
  {
   "cell_type": "code",
   "execution_count": 10,
   "metadata": {
    "colab": {},
    "colab_type": "code",
    "id": "Hx1avsNQZCP7"
   },
   "outputs": [],
   "source": [
    "#checking missing%\n",
    "missing = pd.DataFrame(df.isna().sum(), columns = ['count'])\n",
    "missing['%'] = round(missing/len(df),2)\n",
    "missing = missing[missing['count'] != 0]"
   ]
  },
  {
   "cell_type": "code",
   "execution_count": 11,
   "metadata": {
    "colab": {
     "base_uri": "https://localhost:8080/",
     "height": 35
    },
    "colab_type": "code",
    "id": "6vahuIX0JgmP",
    "outputId": "4449ce9e-43ce-44b7-cecf-64d5fef24e7f"
   },
   "outputs": [
    {
     "data": {
      "text/plain": [
       "0.06388982076851155"
      ]
     },
     "execution_count": 11,
     "metadata": {},
     "output_type": "execute_result"
    }
   ],
   "source": [
    "# ogirinal forclosure portion\n",
    "df['dr_Foreclosure_Ind'].value_counts()[1]/len(df)"
   ]
  },
  {
   "cell_type": "code",
   "execution_count": 12,
   "metadata": {
    "colab": {
     "base_uri": "https://localhost:8080/",
     "height": 35
    },
    "colab_type": "code",
    "id": "OsDAz1NhJqQ2",
    "outputId": "4b9f85d6-d281-4875-d25d-2b2b6e95b6bb"
   },
   "outputs": [
    {
     "data": {
      "text/plain": [
       "0.0676575761852413"
      ]
     },
     "execution_count": 12,
     "metadata": {},
     "output_type": "execute_result"
    }
   ],
   "source": [
    "# forclosure portion after dropping null (in variables having null below 0.7; I tired various values and 0.7 is the best)\n",
    "missing_drop = missing[missing['%'] < 0.07].index.tolist()\n",
    "ndf = df.dropna(subset = missing_drop)\n",
    "ndf['dr_Foreclosure_Ind'].value_counts()[1]/len(ndf)"
   ]
  },
  {
   "cell_type": "markdown",
   "metadata": {
    "colab_type": "text",
    "id": "jsi6tOEjXSGJ"
   },
   "source": [
    "### drop na about some columns"
   ]
  },
  {
   "cell_type": "code",
   "execution_count": 13,
   "metadata": {
    "colab": {},
    "colab_type": "code",
    "id": "5ajtfwXMNIt1"
   },
   "outputs": [],
   "source": [
    "# dropping null (in variables having null below 0.7)\n",
    "df = df.dropna(subset = missing_drop)"
   ]
  },
  {
   "cell_type": "code",
   "execution_count": 14,
   "metadata": {
    "colab": {},
    "colab_type": "code",
    "id": "stFGh8cJNBAp"
   },
   "outputs": [],
   "source": [
    "#checking missing% again\n",
    "missing = pd.DataFrame(df.isna().sum(), columns = ['count'])\n",
    "missing['%'] = round(missing/len(df),2)\n",
    "missing = missing[missing['count'] != 0]"
   ]
  },
  {
   "cell_type": "code",
   "execution_count": 15,
   "metadata": {
    "colab": {
     "base_uri": "https://localhost:8080/",
     "height": 269
    },
    "colab_type": "code",
    "id": "o0P6zEDBNQ3g",
    "outputId": "a10c617b-7d21-499e-ebc3-df0b7d2d8685"
   },
   "outputs": [
    {
     "name": "stdout",
     "output_type": "stream",
     "text": [
      "<class 'pandas.core.frame.DataFrame'>\n",
      "Int64Index: 6462144 entries, 0 to 7224133\n",
      "Data columns (total 9 columns):\n",
      "Mortgage1Amount            float64\n",
      "StatusOwnerOccupiedFlag    float64\n",
      "AreaBuilding               float64\n",
      "RoomsCount                 float64\n",
      "dr_DepthToWidth            float64\n",
      "dr_YearBuilt               float64\n",
      "dr_Ins_Date                object\n",
      "dr_Ownership_Period        float64\n",
      "dr_House_Age               float64\n",
      "dtypes: float64(8), object(1)\n",
      "memory usage: 493.0+ MB\n"
     ]
    }
   ],
   "source": [
    "# Final missing value list\n",
    "df[missing.index].info()"
   ]
  },
  {
   "cell_type": "markdown",
   "metadata": {
    "colab_type": "text",
    "id": "pEuIlbaZoBbT"
   },
   "source": [
    "### Creating new columns for missing values (comebine this later)"
   ]
  },
  {
   "cell_type": "code",
   "execution_count": 16,
   "metadata": {
    "colab": {},
    "colab_type": "code",
    "id": "KlQIiWWBoScD"
   },
   "outputs": [],
   "source": [
    "# get column names having nan\n",
    "nan_check = df.columns[df.isna().any()].tolist()\n",
    "\n",
    "# make new columns to check nan\n",
    "mdf = pd.DataFrame()\n",
    "for i in nan_check:\n",
    "  v_name = i + '_Null'\n",
    "  mdf[v_name] = df[i].isnull().apply(lambda x:  1 if x == True else 0)"
   ]
  },
  {
   "cell_type": "markdown",
   "metadata": {
    "colab_type": "text",
    "id": "01g2DXGvXfFr"
   },
   "source": [
    "### Convert date to unixtime"
   ]
  },
  {
   "cell_type": "code",
   "execution_count": 17,
   "metadata": {
    "colab": {},
    "colab_type": "code",
    "id": "gIQds-_7s_bo"
   },
   "outputs": [],
   "source": [
    "def time_f(x):\n",
    "    try:\n",
    "        return time.mktime(datetime.datetime.strptime(x, \"%Y-%m-%d\").timetuple())\n",
    "    except:\n",
    "        return np.NaN"
   ]
  },
  {
   "cell_type": "code",
   "execution_count": 18,
   "metadata": {
    "colab": {},
    "colab_type": "code",
    "id": "fUuQXlcnXkaU"
   },
   "outputs": [],
   "source": [
    "import time\n",
    "import datetime\n",
    "\n",
    "\n",
    "df['dr_Ins_Date'] = df['dr_Ins_Date'].astype(str)\n",
    "df['dr_Ins_Date'] = df['dr_Ins_Date'].apply(lambda x: time_f(x))"
   ]
  },
  {
   "cell_type": "code",
   "execution_count": 19,
   "metadata": {
    "colab": {
     "base_uri": "https://localhost:8080/",
     "height": 224
    },
    "colab_type": "code",
    "id": "3fs8PKLRWBsa",
    "outputId": "685398c7-3ab7-4b38-981a-f6255eb75afb"
   },
   "outputs": [
    {
     "data": {
      "text/plain": [
       "0    1.197590e+09\n",
       "1    1.286323e+09\n",
       "2    1.355443e+09\n",
       "3    1.349136e+09\n",
       "4             NaN\n",
       "Name: dr_Ins_Date, dtype: float64"
      ]
     },
     "execution_count": 19,
     "metadata": {},
     "output_type": "execute_result"
    }
   ],
   "source": [
    "df['dr_Ins_Date'].head()"
   ]
  },
  {
   "cell_type": "markdown",
   "metadata": {
    "colab_type": "text",
    "id": "EfhafTBJxhO_"
   },
   "source": [
    "### One-hot-encoding"
   ]
  },
  {
   "cell_type": "code",
   "execution_count": 20,
   "metadata": {
    "colab": {},
    "colab_type": "code",
    "id": "vvN1sRUCxf8e"
   },
   "outputs": [],
   "source": [
    "df = pd.get_dummies(df, columns = ['dr_Value_Change'], prefix='dr_Value_Change')"
   ]
  },
  {
   "cell_type": "markdown",
   "metadata": {
    "colab_type": "text",
    "id": "vEYieUjVzZmo"
   },
   "source": [
    "### Combine missing check"
   ]
  },
  {
   "cell_type": "code",
   "execution_count": 21,
   "metadata": {
    "colab": {},
    "colab_type": "code",
    "id": "1-J0dJlNzcI9"
   },
   "outputs": [],
   "source": [
    "df = pd.concat([df, mdf], axis=1)"
   ]
  },
  {
   "cell_type": "markdown",
   "metadata": {
    "colab_type": "text",
    "id": "hD7PVSEVBO8N"
   },
   "source": [
    "### Impute Missing Value"
   ]
  },
  {
   "cell_type": "code",
   "execution_count": 22,
   "metadata": {
    "colab": {},
    "colab_type": "code",
    "id": "XHiB1lxp_n7r"
   },
   "outputs": [],
   "source": [
    "#checking missing% again\n",
    "missing = pd.DataFrame(df.isna().sum(), columns = ['count'])\n",
    "missing['%'] = round(missing/len(df),2)\n",
    "missing = missing[missing['count'] != 0]"
   ]
  },
  {
   "cell_type": "code",
   "execution_count": 23,
   "metadata": {
    "colab": {},
    "colab_type": "code",
    "id": "Bn8voqu6_gAT"
   },
   "outputs": [],
   "source": [
    "# median\n",
    "for i in missing.index:\n",
    "    df[i] = df[i].fillna(value=df[i].median())"
   ]
  },
  {
   "cell_type": "markdown",
   "metadata": {
    "colab_type": "text",
    "id": "6Y77GohoKQvR"
   },
   "source": [
    "## Standard Scaling"
   ]
  },
  {
   "cell_type": "code",
   "execution_count": 24,
   "metadata": {
    "colab": {},
    "colab_type": "code",
    "id": "UIpcOXoIY7Ls"
   },
   "outputs": [],
   "source": [
    "from sklearn.preprocessing import MinMaxScaler\n",
    "scaler = MinMaxScaler()\n",
    "scaler.fit(df)\n",
    "df_sc = scaler.transform(df)\n",
    "df_sc = pd.DataFrame(df_sc, columns=df.columns)"
   ]
  },
  {
   "cell_type": "code",
   "execution_count": 25,
   "metadata": {
    "colab": {
     "base_uri": "https://localhost:8080/",
     "height": 224
    },
    "colab_type": "code",
    "id": "IqQ5O0u1ZZij",
    "outputId": "6e8f1c58-e842-4342-9b72-1ca3c65932be"
   },
   "outputs": [
    {
     "data": {
      "text/html": [
       "<div>\n",
       "<style scoped>\n",
       "    .dataframe tbody tr th:only-of-type {\n",
       "        vertical-align: middle;\n",
       "    }\n",
       "\n",
       "    .dataframe tbody tr th {\n",
       "        vertical-align: top;\n",
       "    }\n",
       "\n",
       "    .dataframe thead th {\n",
       "        text-align: right;\n",
       "    }\n",
       "</style>\n",
       "<table border=\"1\" class=\"dataframe\">\n",
       "  <thead>\n",
       "    <tr style=\"text-align: right;\">\n",
       "      <th></th>\n",
       "      <th>Mortgage1Amount</th>\n",
       "      <th>StatusOwnerOccupiedFlag</th>\n",
       "      <th>TaxYearAssessed</th>\n",
       "      <th>TaxAssessedValueTotal</th>\n",
       "      <th>TaxAssessedImprovementsPerc</th>\n",
       "      <th>TaxMarketValueTotal</th>\n",
       "      <th>AssessorLastSaleAmount</th>\n",
       "      <th>AreaBuilding</th>\n",
       "      <th>RoomsCount</th>\n",
       "      <th>E_SQMILES</th>\n",
       "      <th>...</th>\n",
       "      <th>dr_Value_Change_NC</th>\n",
       "      <th>Mortgage1Amount_Null</th>\n",
       "      <th>StatusOwnerOccupiedFlag_Null</th>\n",
       "      <th>AreaBuilding_Null</th>\n",
       "      <th>RoomsCount_Null</th>\n",
       "      <th>dr_DepthToWidth_Null</th>\n",
       "      <th>dr_YearBuilt_Null</th>\n",
       "      <th>dr_Ins_Date_Null</th>\n",
       "      <th>dr_Ownership_Period_Null</th>\n",
       "      <th>dr_House_Age_Null</th>\n",
       "    </tr>\n",
       "  </thead>\n",
       "  <tbody>\n",
       "    <tr>\n",
       "      <th>0</th>\n",
       "      <td>0.000054</td>\n",
       "      <td>1.0</td>\n",
       "      <td>1.0</td>\n",
       "      <td>0.000317</td>\n",
       "      <td>0.008070</td>\n",
       "      <td>0.000317</td>\n",
       "      <td>0.000000</td>\n",
       "      <td>0.000074</td>\n",
       "      <td>0.000603</td>\n",
       "      <td>0.000373</td>\n",
       "      <td>...</td>\n",
       "      <td>0.0</td>\n",
       "      <td>0.0</td>\n",
       "      <td>1.0</td>\n",
       "      <td>0.0</td>\n",
       "      <td>1.0</td>\n",
       "      <td>1.0</td>\n",
       "      <td>0.0</td>\n",
       "      <td>0.0</td>\n",
       "      <td>1.0</td>\n",
       "      <td>0.0</td>\n",
       "    </tr>\n",
       "    <tr>\n",
       "      <th>1</th>\n",
       "      <td>0.000005</td>\n",
       "      <td>1.0</td>\n",
       "      <td>1.0</td>\n",
       "      <td>0.000247</td>\n",
       "      <td>0.008525</td>\n",
       "      <td>0.000247</td>\n",
       "      <td>0.000476</td>\n",
       "      <td>0.000094</td>\n",
       "      <td>0.000603</td>\n",
       "      <td>0.000373</td>\n",
       "      <td>...</td>\n",
       "      <td>0.0</td>\n",
       "      <td>0.0</td>\n",
       "      <td>0.0</td>\n",
       "      <td>0.0</td>\n",
       "      <td>1.0</td>\n",
       "      <td>0.0</td>\n",
       "      <td>1.0</td>\n",
       "      <td>0.0</td>\n",
       "      <td>0.0</td>\n",
       "      <td>1.0</td>\n",
       "    </tr>\n",
       "    <tr>\n",
       "      <th>2</th>\n",
       "      <td>0.000144</td>\n",
       "      <td>1.0</td>\n",
       "      <td>1.0</td>\n",
       "      <td>0.000288</td>\n",
       "      <td>0.009548</td>\n",
       "      <td>0.000288</td>\n",
       "      <td>0.000535</td>\n",
       "      <td>0.000076</td>\n",
       "      <td>0.000603</td>\n",
       "      <td>0.000373</td>\n",
       "      <td>...</td>\n",
       "      <td>0.0</td>\n",
       "      <td>0.0</td>\n",
       "      <td>1.0</td>\n",
       "      <td>0.0</td>\n",
       "      <td>1.0</td>\n",
       "      <td>1.0</td>\n",
       "      <td>0.0</td>\n",
       "      <td>0.0</td>\n",
       "      <td>0.0</td>\n",
       "      <td>0.0</td>\n",
       "    </tr>\n",
       "    <tr>\n",
       "      <th>3</th>\n",
       "      <td>0.000074</td>\n",
       "      <td>1.0</td>\n",
       "      <td>1.0</td>\n",
       "      <td>0.000194</td>\n",
       "      <td>0.009093</td>\n",
       "      <td>0.000194</td>\n",
       "      <td>0.000000</td>\n",
       "      <td>0.000062</td>\n",
       "      <td>0.000603</td>\n",
       "      <td>0.000373</td>\n",
       "      <td>...</td>\n",
       "      <td>0.0</td>\n",
       "      <td>1.0</td>\n",
       "      <td>0.0</td>\n",
       "      <td>0.0</td>\n",
       "      <td>1.0</td>\n",
       "      <td>1.0</td>\n",
       "      <td>0.0</td>\n",
       "      <td>0.0</td>\n",
       "      <td>0.0</td>\n",
       "      <td>0.0</td>\n",
       "    </tr>\n",
       "    <tr>\n",
       "      <th>4</th>\n",
       "      <td>0.000198</td>\n",
       "      <td>1.0</td>\n",
       "      <td>1.0</td>\n",
       "      <td>0.000207</td>\n",
       "      <td>0.007843</td>\n",
       "      <td>0.000207</td>\n",
       "      <td>0.000318</td>\n",
       "      <td>0.000065</td>\n",
       "      <td>0.000603</td>\n",
       "      <td>0.000373</td>\n",
       "      <td>...</td>\n",
       "      <td>0.0</td>\n",
       "      <td>0.0</td>\n",
       "      <td>0.0</td>\n",
       "      <td>0.0</td>\n",
       "      <td>1.0</td>\n",
       "      <td>0.0</td>\n",
       "      <td>0.0</td>\n",
       "      <td>1.0</td>\n",
       "      <td>0.0</td>\n",
       "      <td>0.0</td>\n",
       "    </tr>\n",
       "  </tbody>\n",
       "</table>\n",
       "<p>5 rows × 65 columns</p>\n",
       "</div>"
      ],
      "text/plain": [
       "   Mortgage1Amount  StatusOwnerOccupiedFlag  TaxYearAssessed  \\\n",
       "0         0.000054                      1.0              1.0   \n",
       "1         0.000005                      1.0              1.0   \n",
       "2         0.000144                      1.0              1.0   \n",
       "3         0.000074                      1.0              1.0   \n",
       "4         0.000198                      1.0              1.0   \n",
       "\n",
       "   TaxAssessedValueTotal  TaxAssessedImprovementsPerc  TaxMarketValueTotal  \\\n",
       "0               0.000317                     0.008070             0.000317   \n",
       "1               0.000247                     0.008525             0.000247   \n",
       "2               0.000288                     0.009548             0.000288   \n",
       "3               0.000194                     0.009093             0.000194   \n",
       "4               0.000207                     0.007843             0.000207   \n",
       "\n",
       "   AssessorLastSaleAmount  AreaBuilding  RoomsCount  E_SQMILES  ...  \\\n",
       "0                0.000000      0.000074    0.000603   0.000373  ...   \n",
       "1                0.000476      0.000094    0.000603   0.000373  ...   \n",
       "2                0.000535      0.000076    0.000603   0.000373  ...   \n",
       "3                0.000000      0.000062    0.000603   0.000373  ...   \n",
       "4                0.000318      0.000065    0.000603   0.000373  ...   \n",
       "\n",
       "   dr_Value_Change_NC  Mortgage1Amount_Null  StatusOwnerOccupiedFlag_Null  \\\n",
       "0                 0.0                   0.0                           1.0   \n",
       "1                 0.0                   0.0                           0.0   \n",
       "2                 0.0                   0.0                           1.0   \n",
       "3                 0.0                   1.0                           0.0   \n",
       "4                 0.0                   0.0                           0.0   \n",
       "\n",
       "   AreaBuilding_Null  RoomsCount_Null  dr_DepthToWidth_Null  \\\n",
       "0                0.0              1.0                   1.0   \n",
       "1                0.0              1.0                   0.0   \n",
       "2                0.0              1.0                   1.0   \n",
       "3                0.0              1.0                   1.0   \n",
       "4                0.0              1.0                   0.0   \n",
       "\n",
       "   dr_YearBuilt_Null  dr_Ins_Date_Null  dr_Ownership_Period_Null  \\\n",
       "0                0.0               0.0                       1.0   \n",
       "1                1.0               0.0                       0.0   \n",
       "2                0.0               0.0                       0.0   \n",
       "3                0.0               0.0                       0.0   \n",
       "4                0.0               1.0                       0.0   \n",
       "\n",
       "   dr_House_Age_Null  \n",
       "0                0.0  \n",
       "1                1.0  \n",
       "2                0.0  \n",
       "3                0.0  \n",
       "4                0.0  \n",
       "\n",
       "[5 rows x 65 columns]"
      ]
     },
     "execution_count": 25,
     "metadata": {},
     "output_type": "execute_result"
    }
   ],
   "source": [
    "df_sc.head()"
   ]
  },
  {
   "cell_type": "markdown",
   "metadata": {
    "colab_type": "text",
    "id": "M4eaLq2yBgXG"
   },
   "source": [
    "## SMOTE"
   ]
  },
  {
   "cell_type": "code",
   "execution_count": 26,
   "metadata": {
    "colab": {},
    "colab_type": "code",
    "id": "vUnGH5ZCsD7I"
   },
   "outputs": [],
   "source": [
    "from sklearn.model_selection import train_test_split\n",
    "X = df_sc.drop('dr_Foreclosure_Ind', axis=1)\n",
    "y = df_sc['dr_Foreclosure_Ind']\n",
    "X_train, X_test, y_train, y_test = train_test_split(X, y, test_size=0.4)"
   ]
  },
  {
   "cell_type": "code",
   "execution_count": 27,
   "metadata": {},
   "outputs": [
    {
     "data": {
      "text/plain": [
       "0.0    2409514\n",
       "1.0     175344\n",
       "Name: dr_Foreclosure_Ind, dtype: int64"
      ]
     },
     "execution_count": 27,
     "metadata": {},
     "output_type": "execute_result"
    }
   ],
   "source": [
    "y_test.value_counts()"
   ]
  },
  {
   "cell_type": "code",
   "execution_count": 28,
   "metadata": {},
   "outputs": [],
   "source": [
    "# !pip install -U imbalanced-learn"
   ]
  },
  {
   "cell_type": "code",
   "execution_count": 29,
   "metadata": {
    "colab": {
     "base_uri": "https://localhost:8080/",
     "height": 73
    },
    "colab_type": "code",
    "id": "Y1uLT9JwsEZu",
    "outputId": "22bbc6cd-cdde-4689-e926-600896304b72"
   },
   "outputs": [],
   "source": [
    "from imblearn.over_sampling import SMOTE\n",
    "smote = SMOTE( random_state=0)\n",
    "\n",
    "X_train, y_train = smote.fit_resample(X_train, y_train)"
   ]
  },
  {
   "cell_type": "markdown",
   "metadata": {
    "colab_type": "text",
    "id": "TY_b4PHQKVgK"
   },
   "source": [
    "## Fast.AI"
   ]
  },
  {
   "cell_type": "code",
   "execution_count": 30,
   "metadata": {},
   "outputs": [],
   "source": [
    "# on Terminal\n",
    "# conda uninstall --force jpeg libtiff -y\n",
    "# conda install -c conda-forge libjpeg-turbo pillow==6.0.0\n",
    "# CC=\"cc -mavx2\" pip install --no-cache-dir -U --force-reinstall --no-binary :all: --compile pillow-simd"
   ]
  },
  {
   "cell_type": "code",
   "execution_count": 31,
   "metadata": {},
   "outputs": [],
   "source": [
    "# !pip install git+https://github.com/fastai/fastai.git"
   ]
  },
  {
   "cell_type": "code",
   "execution_count": 32,
   "metadata": {
    "colab": {},
    "colab_type": "code",
    "id": "67tcGWWXMiUY"
   },
   "outputs": [],
   "source": [
    "from fastai.tabular import *"
   ]
  },
  {
   "cell_type": "code",
   "execution_count": 33,
   "metadata": {
    "colab": {},
    "colab_type": "code",
    "id": "abnf4pfwKXcc"
   },
   "outputs": [],
   "source": [
    "procs = [FillMissing, Normalize]\n",
    "valid_idx = range(len(df)-30000, len(df))\n",
    "dep_var = 'dr_Foreclosure_Ind'\n",
    "con = df.drop('dr_Foreclosure_Ind', axis=1).columns.tolist()"
   ]
  },
  {
   "cell_type": "code",
   "execution_count": 34,
   "metadata": {
    "colab": {},
    "colab_type": "code",
    "id": "fiMujeAGmy7g"
   },
   "outputs": [],
   "source": [
    "XX = pd.DataFrame(X_train, columns=df.drop('dr_Foreclosure_Ind', axis=1).columns)\n",
    "yy = pd.DataFrame(y_train, columns=['dr_Foreclosure_Ind'])\n",
    "ndf = pd.concat([XX, yy], axis=1)\n",
    "test_df = pd.DataFrame(X_test, columns=df.drop('dr_Foreclosure_Ind', axis=1).columns)"
   ]
  },
  {
   "cell_type": "code",
   "execution_count": 35,
   "metadata": {},
   "outputs": [],
   "source": [
    "path = '/home/ec2-user/SageMaker'"
   ]
  },
  {
   "cell_type": "code",
   "execution_count": 36,
   "metadata": {
    "colab": {},
    "colab_type": "code",
    "id": "8sSRV_kqk93-"
   },
   "outputs": [],
   "source": [
    "data = TabularDataBunch.from_df(path=path, df=ndf, \n",
    "                                dep_var=dep_var, \n",
    "                                valid_idx=valid_idx, \n",
    "                                cat_names=[], \n",
    "                                cont_names=con, \n",
    "#                                 bs=2048,\n",
    "                                procs=[],\n",
    "                                test_df=test_df)"
   ]
  },
  {
   "cell_type": "code",
   "execution_count": 37,
   "metadata": {
    "colab": {
     "base_uri": "https://localhost:8080/",
     "height": 362
    },
    "colab_type": "code",
    "id": "b48ZXLzeprZV",
    "outputId": "78212e61-a6f6-4b1f-b522-249f9ed6e4e0",
    "scrolled": false
   },
   "outputs": [],
   "source": [
    "learn = tabular_learner(data, layers=[200,100], wd=0.01, y_range=[0,1])"
   ]
  },
  {
   "cell_type": "code",
   "execution_count": 38,
   "metadata": {},
   "outputs": [],
   "source": [
    "# learn.lr_find()\n",
    "# learn.recorder.plot()"
   ]
  },
  {
   "cell_type": "code",
   "execution_count": 39,
   "metadata": {},
   "outputs": [
    {
     "data": {
      "text/html": [
       "<table border=\"1\" class=\"dataframe\">\n",
       "  <thead>\n",
       "    <tr style=\"text-align: left;\">\n",
       "      <th>epoch</th>\n",
       "      <th>train_loss</th>\n",
       "      <th>valid_loss</th>\n",
       "      <th>time</th>\n",
       "    </tr>\n",
       "  </thead>\n",
       "  <tbody>\n",
       "    <tr>\n",
       "      <td>0</td>\n",
       "      <td>0.142585</td>\n",
       "      <td>0.116105</td>\n",
       "      <td>13:36</td>\n",
       "    </tr>\n",
       "    <tr>\n",
       "      <td>1</td>\n",
       "      <td>0.132706</td>\n",
       "      <td>0.113120</td>\n",
       "      <td>13:36</td>\n",
       "    </tr>\n",
       "    <tr>\n",
       "      <td>2</td>\n",
       "      <td>0.132182</td>\n",
       "      <td>0.107504</td>\n",
       "      <td>13:36</td>\n",
       "    </tr>\n",
       "    <tr>\n",
       "      <td>3</td>\n",
       "      <td>0.129818</td>\n",
       "      <td>0.110171</td>\n",
       "      <td>13:39</td>\n",
       "    </tr>\n",
       "    <tr>\n",
       "      <td>4</td>\n",
       "      <td>0.126564</td>\n",
       "      <td>0.108488</td>\n",
       "      <td>13:39</td>\n",
       "    </tr>\n",
       "    <tr>\n",
       "      <td>5</td>\n",
       "      <td>0.116819</td>\n",
       "      <td>0.097840</td>\n",
       "      <td>13:39</td>\n",
       "    </tr>\n",
       "    <tr>\n",
       "      <td>6</td>\n",
       "      <td>0.120198</td>\n",
       "      <td>0.096070</td>\n",
       "      <td>13:40</td>\n",
       "    </tr>\n",
       "  </tbody>\n",
       "</table>"
      ],
      "text/plain": [
       "<IPython.core.display.HTML object>"
      ]
     },
     "metadata": {},
     "output_type": "display_data"
    }
   ],
   "source": [
    "learn.fit_one_cycle(7, 1.00E-03)"
   ]
  },
  {
   "cell_type": "code",
   "execution_count": 40,
   "metadata": {},
   "outputs": [],
   "source": [
    "# learn.unfreeze()"
   ]
  },
  {
   "cell_type": "code",
   "execution_count": 41,
   "metadata": {},
   "outputs": [],
   "source": [
    "# learn.fit_one_cycle(7,  max_lr=1e-2)"
   ]
  },
  {
   "cell_type": "code",
   "execution_count": 42,
   "metadata": {
    "colab": {},
    "colab_type": "code",
    "id": "iqo9OWlKq2bm"
   },
   "outputs": [
    {
     "data": {
      "text/html": [],
      "text/plain": [
       "<IPython.core.display.HTML object>"
      ]
     },
     "metadata": {},
     "output_type": "display_data"
    }
   ],
   "source": [
    "test_preds, _ = learn.get_preds(ds_type=DatasetType.Test)\n",
    "target_preds = to_np(test_preds)\n",
    "target_preds = target_preds.reshape((target_preds.shape[0],))\n",
    "target_preds = pd.Series(target_preds)"
   ]
  },
  {
   "cell_type": "code",
   "execution_count": 57,
   "metadata": {
    "colab": {
     "base_uri": "https://localhost:8080/",
     "height": 53
    },
    "colab_type": "code",
    "id": "wao6WA8Fru9W",
    "outputId": "2a95823f-f251-43dd-bec1-9102ceeaf4a4"
   },
   "outputs": [
    {
     "name": "stdout",
     "output_type": "stream",
     "text": [
      "[[2347507   62007]\n",
      " [ 110368   64976]]\n"
     ]
    }
   ],
   "source": [
    "prediction = target_preds.apply(lambda x: 1 if x>=.85 else 0)\n",
    "from sklearn.metrics import classification_report, confusion_matrix\n",
    "print(confusion_matrix(y_test,prediction))"
   ]
  },
  {
   "cell_type": "code",
   "execution_count": 59,
   "metadata": {
    "colab": {
     "base_uri": "https://localhost:8080/",
     "height": 35
    },
    "colab_type": "code",
    "id": "k47PP2miJ9iW",
    "outputId": "eb282284-b408-43b9-f4ae-da267d0e0977"
   },
   "outputs": [
    {
     "data": {
      "text/plain": [
       "0.9333"
      ]
     },
     "execution_count": 59,
     "metadata": {},
     "output_type": "execute_result"
    }
   ],
   "source": [
    "xx =confusion_matrix(y_test,prediction)[0][1] + confusion_matrix(y_test,prediction)[1][0]\n",
    "yy = xx + confusion_matrix(y_test,prediction)[0][0] + confusion_matrix(y_test,prediction)[1][1]\n",
    "round(1- (xx / yy),4)"
   ]
  },
  {
   "cell_type": "code",
   "execution_count": 58,
   "metadata": {
    "colab": {
     "base_uri": "https://localhost:8080/",
     "height": 179
    },
    "colab_type": "code",
    "id": "ThJlsIMEurA7",
    "outputId": "0746a53f-6a95-459f-bec9-aeefb230ee03"
   },
   "outputs": [
    {
     "name": "stdout",
     "output_type": "stream",
     "text": [
      "              precision    recall  f1-score   support\n",
      "\n",
      "           0       0.97      0.96      0.96   2457875\n",
      "           1       0.37      0.51      0.43    126983\n",
      "\n",
      "    accuracy                           0.93   2584858\n",
      "   macro avg       0.67      0.73      0.70   2584858\n",
      "weighted avg       0.94      0.93      0.94   2584858\n",
      "\n"
     ]
    }
   ],
   "source": [
    "print(classification_report(prediction, y_test))"
   ]
  },
  {
   "cell_type": "markdown",
   "metadata": {
    "colab_type": "text",
    "id": "1Mhi57f_Bitg"
   },
   "source": [
    "## Logistic"
   ]
  },
  {
   "cell_type": "code",
   "execution_count": 60,
   "metadata": {},
   "outputs": [],
   "source": [
    "import statsmodels.api as sm"
   ]
  },
  {
   "cell_type": "code",
   "execution_count": 66,
   "metadata": {},
   "outputs": [],
   "source": [
    "logit = sm.Logit(y_train, X_train)"
   ]
  },
  {
   "cell_type": "code",
   "execution_count": null,
   "metadata": {},
   "outputs": [],
   "source": [
    "result = logit.fit(maxiter=10000)"
   ]
  },
  {
   "cell_type": "code",
   "execution_count": null,
   "metadata": {},
   "outputs": [],
   "source": [
    "print result.summary()"
   ]
  },
  {
   "cell_type": "code",
   "execution_count": null,
   "metadata": {},
   "outputs": [],
   "source": [
    "y_pred_logit = logit.predict(X_test)"
   ]
  },
  {
   "cell_type": "code",
   "execution_count": null,
   "metadata": {},
   "outputs": [],
   "source": [
    "print(classification_report(y_pred_logit, y_test))"
   ]
  },
  {
   "cell_type": "code",
   "execution_count": null,
   "metadata": {
    "colab": {},
    "colab_type": "code",
    "id": "G8qEPYbkeDKU"
   },
   "outputs": [],
   "source": [
    "#Building predictive model based on all selected variables \n",
    "multi_model = sm.formula.glm(\"dr_Foreclosure_Ind~C(Mortgage1Amount)+C(AreaBuilding)+C(E_SQMILES)+C(E_DENSITY)\\\n",
    "                             +C(E_MEDAGE)+C(E_MEDHHSIZE)+C(dr_PERC_VACUNIT)+C(dr_MktValueToIncome)\\\n",
    "                             +C(dr_DepthToWidth)+C(dr_Annual_PopGrowth10)+C(TaxAssessedValueLand)+C(TaxMarketValueTotal)+C(TaxMarketValueLand)\\\n",
    "                             +C(E_POP10)+C(E_FAMMAR18)+C(E_TRAVHOME)+C(E_NONFAMHH)+C(E_OOCCHH)\\\n",
    "                             +C(E_ROCCHH)+C(E_MORTANY)+C(E_NOMORT)+C(E_MEDHHINC)\\\n",
    "                             +C(dr_Condo_Ind)+C(dr_Ownership_Period)+C(dr_House_Age)+C(dr_Value_Change)\\\n",
    "                             +C(X_PERC_CDPD60)+C(X_Bankruptcy_Index)+C(X_Risk_Score)+C(X_Vantage_Score)\\\n",
    "                             +C(dr_TRAVLTIME)\"\\\n",
    "                             , data=X_train, family=sm.families.Binomial()).fit()\n",
    "print(multi_model.summary())"
   ]
  },
  {
   "cell_type": "code",
   "execution_count": null,
   "metadata": {
    "colab": {
     "base_uri": "https://localhost:8080/",
     "height": 322
    },
    "colab_type": "code",
    "id": "gy1TivaJrqHs",
    "outputId": "117d372a-7132-4c06-97fc-2e53fdb4ad73"
   },
   "outputs": [],
   "source": [
    "X_test = X_test.drop('dr_Foreclosure_Ind', axis=1)"
   ]
  },
  {
   "cell_type": "code",
   "execution_count": null,
   "metadata": {
    "colab": {},
    "colab_type": "code",
    "id": "P8R3ET7OsSkk"
   },
   "outputs": [],
   "source": []
  },
  {
   "cell_type": "code",
   "execution_count": null,
   "metadata": {
    "colab": {},
    "colab_type": "code",
    "id": "DeQvAyBBsT9k"
   },
   "outputs": [],
   "source": []
  },
  {
   "cell_type": "code",
   "execution_count": null,
   "metadata": {
    "colab": {},
    "colab_type": "code",
    "id": "3uEQCFR4664n"
   },
   "outputs": [],
   "source": [
    "pred = multi_model.predict(X_test)\n",
    "pred.mean()"
   ]
  },
  {
   "cell_type": "code",
   "execution_count": null,
   "metadata": {
    "colab": {},
    "colab_type": "code",
    "id": "HUsi5koI8cV5"
   },
   "outputs": [],
   "source": [
    "prediction = pred.apply(lambda x: 1 if x>=.5 else 0)"
   ]
  },
  {
   "cell_type": "code",
   "execution_count": null,
   "metadata": {
    "colab": {},
    "colab_type": "code",
    "id": "_DlDnS4w8wsc"
   },
   "outputs": [],
   "source": [
    "prediction.value_counts()"
   ]
  },
  {
   "cell_type": "code",
   "execution_count": null,
   "metadata": {
    "colab": {},
    "colab_type": "code",
    "id": "JhviWyw79j0N"
   },
   "outputs": [],
   "source": [
    "y_test.value_counts()"
   ]
  },
  {
   "cell_type": "code",
   "execution_count": null,
   "metadata": {
    "colab": {},
    "colab_type": "code",
    "id": "NSd_gfPc7YTY"
   },
   "outputs": [],
   "source": [
    "from sklearn.metrics import classification_report, confusion_matrix"
   ]
  },
  {
   "cell_type": "code",
   "execution_count": null,
   "metadata": {
    "colab": {},
    "colab_type": "code",
    "id": "Zhe1IP6H8NHS"
   },
   "outputs": [],
   "source": [
    "print(confusion_matrix(prediction, y_test))"
   ]
  },
  {
   "cell_type": "code",
   "execution_count": null,
   "metadata": {
    "colab": {},
    "colab_type": "code",
    "id": "Y0lzuT08-QxQ"
   },
   "outputs": [],
   "source": [
    "#accuracy\n",
    "(141+5187)/(141+5187+71680+164)"
   ]
  },
  {
   "cell_type": "markdown",
   "metadata": {
    "colab_type": "text",
    "id": "8KslA8Bc8oKC"
   },
   "source": [
    "## Deep Learning"
   ]
  },
  {
   "cell_type": "code",
   "execution_count": null,
   "metadata": {
    "colab": {},
    "colab_type": "code",
    "id": "0R5ESgOOtQgt"
   },
   "outputs": [],
   "source": [
    "import tensorflow as tf\n",
    "feat_cols = []\n",
    "for i in df_feat.columns:\n",
    "  feat_cols += [tf.feature_column.numeric_column(i)]"
   ]
  },
  {
   "cell_type": "code",
   "execution_count": null,
   "metadata": {
    "colab": {},
    "colab_type": "code",
    "id": "9klMojidQcwL"
   },
   "outputs": [],
   "source": [
    "X_train = pd.DataFrame(X_train, columns=X.columns)\n",
    "y_train = pd.Series(y_train)"
   ]
  },
  {
   "cell_type": "code",
   "execution_count": null,
   "metadata": {
    "colab": {},
    "colab_type": "code",
    "id": "IN7syhW0NGzo"
   },
   "outputs": [],
   "source": [
    "input_func = tf.estimator.inputs.pandas_input_fn(x=X_train,y=y_train,batch_size=128, num_epochs=30 ,shuffle=True)"
   ]
  },
  {
   "cell_type": "code",
   "execution_count": null,
   "metadata": {
    "colab": {},
    "colab_type": "code",
    "id": "lEMhGa4-_Kmm"
   },
   "outputs": [],
   "source": [
    "classifier = tf.estimator.DNNClassifier(hidden_units=[50, 150, 50], n_classes=2,feature_columns=feat_cols) #, optimizer=tf.train.AdamOptimizer(1e-2))\n",
    "classifier.train(input_fn=input_func,steps=5000)"
   ]
  },
  {
   "cell_type": "code",
   "execution_count": null,
   "metadata": {
    "colab": {},
    "colab_type": "code",
    "id": "MrUHTkqKtlEu"
   },
   "outputs": [],
   "source": [
    "pred_fn = tf.estimator.inputs.pandas_input_fn(x=X_test,batch_size=len(X_test),shuffle=False)\n",
    "note_predictions = list(classifier.predict(input_fn=pred_fn))\n",
    "note_predictions[0]\n",
    "final_preds  = []\n",
    "for pred in note_predictions:\n",
    "    final_preds.append(pred['class_ids'][0])"
   ]
  },
  {
   "cell_type": "code",
   "execution_count": null,
   "metadata": {
    "colab": {},
    "colab_type": "code",
    "id": "tM--Buaht1Qu"
   },
   "outputs": [],
   "source": [
    "print(confusion_matrix(y_test,final_preds))"
   ]
  },
  {
   "cell_type": "code",
   "execution_count": null,
   "metadata": {
    "colab": {},
    "colab_type": "code",
    "id": "6XbTabyyt4z1"
   },
   "outputs": [],
   "source": [
    "print(classification_report(y_test,final_preds))"
   ]
  },
  {
   "cell_type": "markdown",
   "metadata": {
    "colab_type": "text",
    "id": "1x7MBfC2KakI"
   },
   "source": [
    "## LGMB"
   ]
  },
  {
   "cell_type": "code",
   "execution_count": null,
   "metadata": {
    "colab": {},
    "colab_type": "code",
    "id": "DUK8Wr0dj5RZ"
   },
   "outputs": [],
   "source": [
    "# from sklearn.model_selection import train_test_split\n",
    "# X = df.drop('dr_Foreclosure_Ind', axis=1)\n",
    "# y = df['dr_Foreclosure_Ind']\n",
    "# # X = X.astype('category')\n",
    "# X_train, X_test, y_train, y_test = train_test_split(X, y, test_size=0.4)"
   ]
  },
  {
   "cell_type": "code",
   "execution_count": null,
   "metadata": {
    "colab": {},
    "colab_type": "code",
    "id": "etzY-60mhWHP"
   },
   "outputs": [],
   "source": [
    "import lightgbm as lgb"
   ]
  },
  {
   "cell_type": "code",
   "execution_count": null,
   "metadata": {
    "colab": {},
    "colab_type": "code",
    "id": "Fd4Kn-NfKkvX"
   },
   "outputs": [],
   "source": [
    "lgb_train = lgb.Dataset(X_train, y_train)\n",
    "lgb_test = lgb.Dataset(X_test, y_test, reference = lgb_train)\n",
    "\n",
    "# lgb_train = lgb.Dataset(X_train, label = y_train, feature_name = col_cat, categorical_feature = col_cat)\n",
    "# lgb_test = lgb.Dataset(X_test, label = y_test, feature_name = col_cat, categorical_feature = col_cat)"
   ]
  },
  {
   "cell_type": "code",
   "execution_count": null,
   "metadata": {
    "colab": {},
    "colab_type": "code",
    "id": "St7SUW6DKz3p"
   },
   "outputs": [],
   "source": [
    "# LGBM 1\n",
    "params = {\n",
    "    'task': 'train',\n",
    "    'objective': 'binary',\n",
    "    'metric': 'binary_error',\n",
    "    'verbose': 50\n",
    "}"
   ]
  },
  {
   "cell_type": "code",
   "execution_count": null,
   "metadata": {
    "colab": {
     "base_uri": "https://localhost:8080/",
     "height": 1000
    },
    "colab_type": "code",
    "id": "suXwI8ysK8w_",
    "outputId": "7b4b8d9e-ea2e-41d3-d4b7-6b4ae4d5cae7"
   },
   "outputs": [],
   "source": [
    "lgbm = lgb.train(params, \n",
    "                 lgb_train, \n",
    "                 num_boost_round=500,\n",
    "                 early_stopping_rounds = 100,\n",
    "                 valid_sets=[lgb_train, lgb_test],\n",
    "                 valid_names=['train', 'test'],\n",
    "                 )"
   ]
  },
  {
   "cell_type": "code",
   "execution_count": null,
   "metadata": {
    "colab": {
     "base_uri": "https://localhost:8080/",
     "height": 179
    },
    "colab_type": "code",
    "id": "D1FbkOnjy915",
    "outputId": "57c014ba-265a-4873-b59d-488500753a35"
   },
   "outputs": [],
   "source": [
    "pred = lgbm.predict(X_test)\n",
    "pred = pd.Series(pred)\n",
    "pred = pred.apply(lambda x: 1 if x>=.5 else 0)\n",
    "print(classification_report(pred,y_test))"
   ]
  },
  {
   "cell_type": "code",
   "execution_count": null,
   "metadata": {
    "colab": {
     "base_uri": "https://localhost:8080/",
     "height": 53
    },
    "colab_type": "code",
    "id": "uG9gKKSCzBla",
    "outputId": "f4d92c53-41e9-4919-b395-18a994d3a35f"
   },
   "outputs": [],
   "source": [
    "print(confusion_matrix(pred, y_test))"
   ]
  },
  {
   "cell_type": "code",
   "execution_count": null,
   "metadata": {
    "colab": {
     "base_uri": "https://localhost:8080/",
     "height": 35
    },
    "colab_type": "code",
    "id": "yazH0XrjzUJa",
    "outputId": "1dba276a-5222-493c-c203-2e59b568e22c"
   },
   "outputs": [],
   "source": [
    "(895+3406)/(895+3406+71249+1608)"
   ]
  },
  {
   "cell_type": "markdown",
   "metadata": {
    "colab_type": "text",
    "id": "_ELrAo1qP64O"
   },
   "source": [
    "### Feature importance"
   ]
  },
  {
   "cell_type": "code",
   "execution_count": null,
   "metadata": {
    "colab": {
     "base_uri": "https://localhost:8080/",
     "height": 737
    },
    "colab_type": "code",
    "id": "ss6aDTy1VFDW",
    "outputId": "f1588b8b-9b02-4ab4-ac15-aae604c7c84f"
   },
   "outputs": [],
   "source": [
    "!pip install shap\n",
    "import shap"
   ]
  },
  {
   "cell_type": "code",
   "execution_count": null,
   "metadata": {
    "colab": {
     "base_uri": "https://localhost:8080/",
     "height": 53
    },
    "colab_type": "code",
    "id": "PY0LreHcVLLi",
    "outputId": "082cdea6-76a6-40fa-9aff-c596c596170e"
   },
   "outputs": [],
   "source": [
    "%time shap_values = shap.TreeExplainer(lgbm).shap_values(X_test)"
   ]
  },
  {
   "cell_type": "code",
   "execution_count": null,
   "metadata": {
    "colab": {
     "base_uri": "https://localhost:8080/",
     "height": 604
    },
    "colab_type": "code",
    "id": "DE7CQ4rSVwOb",
    "outputId": "6cc00dfb-39aa-4943-8095-d91ce761b707"
   },
   "outputs": [],
   "source": [
    "shap.summary_plot(shap_values, X_test)"
   ]
  },
  {
   "cell_type": "code",
   "execution_count": null,
   "metadata": {
    "colab": {
     "base_uri": "https://localhost:8080/",
     "height": 345
    },
    "colab_type": "code",
    "id": "Cr6LsWMfW4Fu",
    "outputId": "f6aeae45-4b3e-45bd-acdd-7491ad06d017"
   },
   "outputs": [],
   "source": [
    "shap.dependence_plot(\"Mortgage1Amount\", shap_values, X_test)"
   ]
  },
  {
   "cell_type": "code",
   "execution_count": null,
   "metadata": {
    "colab": {
     "base_uri": "https://localhost:8080/",
     "height": 251
    },
    "colab_type": "code",
    "id": "hhtsDpS-ZgPf",
    "outputId": "c4b639ce-7441-4428-c756-c44b04af2008"
   },
   "outputs": [],
   "source": []
  },
  {
   "cell_type": "code",
   "execution_count": null,
   "metadata": {
    "colab": {},
    "colab_type": "code",
    "id": "vmmkld1RQMnD"
   },
   "outputs": [],
   "source": [
    "fi =pd.DataFrame(lgbm.feature_importance(), index=X.columns)"
   ]
  },
  {
   "cell_type": "code",
   "execution_count": null,
   "metadata": {
    "colab": {
     "base_uri": "https://localhost:8080/",
     "height": 1000
    },
    "colab_type": "code",
    "id": "NMf9V-pIRHyB",
    "outputId": "eed424b5-435b-4b90-e6ea-622264f0a009"
   },
   "outputs": [],
   "source": [
    "fi.sort_values(by=[0], ascending=False)"
   ]
  },
  {
   "cell_type": "code",
   "execution_count": null,
   "metadata": {
    "colab": {
     "base_uri": "https://localhost:8080/",
     "height": 136
    },
    "colab_type": "code",
    "id": "zHPwLPZyP_I5",
    "outputId": "cf4f3c60-72c4-4b86-aae1-785b1c90b707"
   },
   "outputs": [],
   "source": [
    "sns.barplot(x=\"Value\", y=\"Feature\", data=lgbm.feature_importance"
   ]
  },
  {
   "cell_type": "code",
   "execution_count": null,
   "metadata": {
    "colab": {},
    "colab_type": "code",
    "id": "vEr0qCHKzY1x"
   },
   "outputs": [],
   "source": [
    "# LGBM2\n",
    "\n",
    "clf = lgb.LGBMClassifier(num_leaves= 15, max_depth=-1, \n",
    "                         random_state=314, \n",
    "                         silent=True, \n",
    "                         metric='None', \n",
    "                         n_jobs=4, \n",
    "                         n_estimators=1000,\n",
    "                         colsample_bytree=0.9,\n",
    "                         subsample=0.9,\n",
    "                         learning_rate=0.01)"
   ]
  },
  {
   "cell_type": "code",
   "execution_count": null,
   "metadata": {
    "colab": {},
    "colab_type": "code",
    "id": "eyRfiM3LzdHi"
   },
   "outputs": [],
   "source": [
    "fit_params={\"early_stopping_rounds\":1000, \n",
    "            \"eval_metric\" : 'binary_error', \n",
    "            \"eval_set\" : [(X_test,y_test)],\n",
    "            'eval_names': ['valid'],\n",
    "            'verbose': 100,\n",
    "            'feature_name': 'auto', # that's actually the default\n",
    "            'categorical_feature': 'auto' # that's actually the default\n",
    "           }"
   ]
  },
  {
   "cell_type": "code",
   "execution_count": null,
   "metadata": {
    "colab": {
     "base_uri": "https://localhost:8080/",
     "height": 377
    },
    "colab_type": "code",
    "id": "fgYnbHl2Nxb9",
    "outputId": "53609267-c0e2-49a3-ac48-f509247387a3"
   },
   "outputs": [],
   "source": [
    "clf.fit(X_train, y_train, **fit_params)"
   ]
  },
  {
   "cell_type": "code",
   "execution_count": null,
   "metadata": {
    "colab": {
     "base_uri": "https://localhost:8080/",
     "height": 179
    },
    "colab_type": "code",
    "id": "j6C2Sx7wzz7K",
    "outputId": "84268fb7-f6a0-4401-91b6-44bd90880f7e"
   },
   "outputs": [],
   "source": [
    "pred = clf.predict(X_test)\n",
    "print(classification_report(pred,y_test))"
   ]
  },
  {
   "cell_type": "code",
   "execution_count": null,
   "metadata": {
    "colab": {
     "base_uri": "https://localhost:8080/",
     "height": 53
    },
    "colab_type": "code",
    "id": "oENiJebMN5Be",
    "outputId": "e69103af-2622-428f-e835-4ad5cd00904c"
   },
   "outputs": [],
   "source": [
    "print(confusion_matrix(pred, y_test))"
   ]
  },
  {
   "cell_type": "code",
   "execution_count": null,
   "metadata": {
    "colab": {
     "base_uri": "https://localhost:8080/",
     "height": 35
    },
    "colab_type": "code",
    "id": "rxcJbdA9z_Ap",
    "outputId": "188b4c44-535f-4b53-fe0e-6b59a3640679"
   },
   "outputs": [],
   "source": [
    "(166+3871)/(166+3871+62269+1054)"
   ]
  },
  {
   "cell_type": "code",
   "execution_count": null,
   "metadata": {
    "colab": {},
    "colab_type": "code",
    "id": "swDonrnnrtsB"
   },
   "outputs": [],
   "source": [
    "# LGBM 3\n",
    "\n",
    "fit_params = {\n",
    "    \"objective\": \"binary\",\n",
    "    \"metric\": \"binary_error\",\n",
    "    \"boosting\": 'gbdt',\n",
    "    \"max_depth\": -1,\n",
    "    \"num_leaves\": 13,\n",
    "    \"learning_rate\": 0.01,\n",
    "    \"bagging_freq\": 5,\n",
    "    \"bagging_fraction\": 0.4,\n",
    "    \"feature_fraction\": 0.05,\n",
    "    \"min_data_in_leaf\": 80,\n",
    "    \"min_sum_heassian_in_leaf\": 10,\n",
    "    \"tree_learner\": \"serial\",\n",
    "    \"boost_from_average\": \"false\",\n",
    "    # \"lambda_l1\" : 5,\n",
    "    # \"lambda_l2\" : 5,\n",
    "    \"bagging_seed\": 314,\n",
    "    \"verbosity\": 1,\n",
    "    \"seed\": 314\n",
    "}"
   ]
  },
  {
   "cell_type": "code",
   "execution_count": null,
   "metadata": {
    "colab": {
     "base_uri": "https://localhost:8080/",
     "height": 593
    },
    "colab_type": "code",
    "id": "cB4pckX9sgOL",
    "outputId": "79598713-f607-434b-d2b5-cc93ab4406e3"
   },
   "outputs": [],
   "source": [
    "evals_result = {}\n",
    "lgb_clf = lgb.train(fit_params,\n",
    "                            lgb_train,\n",
    "                            100000,\n",
    "                            valid_sets=[lgb_train, lgb_test],\n",
    "                            early_stopping_rounds=3000,\n",
    "                            verbose_eval=1000,\n",
    "                            evals_result=evals_result\n",
    "                            )"
   ]
  },
  {
   "cell_type": "code",
   "execution_count": null,
   "metadata": {
    "colab": {
     "base_uri": "https://localhost:8080/",
     "height": 179
    },
    "colab_type": "code",
    "id": "ey2OLAvgwcu_",
    "outputId": "31bf87d7-51a7-4a05-ad26-749b17d0325e"
   },
   "outputs": [],
   "source": [
    "pred = lgb_clf.predict(X_test)\n",
    "pred = pd.Series(pred)\n",
    "pred = pred.apply(lambda x: 1 if x>=.5 else 0)\n",
    "print(classification_report(pred,y_test))\n"
   ]
  },
  {
   "cell_type": "code",
   "execution_count": null,
   "metadata": {
    "colab": {},
    "colab_type": "code",
    "id": "-YOfadLNA4kG"
   },
   "outputs": [],
   "source": [
    "print(confusion_matrix(pred, y_test))"
   ]
  },
  {
   "cell_type": "code",
   "execution_count": null,
   "metadata": {
    "colab": {
     "base_uri": "https://localhost:8080/",
     "height": 35
    },
    "colab_type": "code",
    "id": "uYyQ9hpjxwQw",
    "outputId": "ab6724c1-4a64-444b-8bc0-ef8d67a6af90"
   },
   "outputs": [],
   "source": [
    "(174+4958)/(174+4958+342+71715)"
   ]
  },
  {
   "cell_type": "markdown",
   "metadata": {
    "colab_type": "text",
    "id": "fbsL81lC2WgL"
   },
   "source": [
    "## LGBM - No grouping"
   ]
  },
  {
   "cell_type": "markdown",
   "metadata": {
    "colab_type": "text",
    "id": "Of6xH7g1ePtX"
   },
   "source": [
    "## **REGROUING** \n"
   ]
  },
  {
   "cell_type": "code",
   "execution_count": null,
   "metadata": {
    "colab": {},
    "colab_type": "code",
    "id": "4vOBruVjePR8"
   },
   "outputs": [],
   "source": [
    "# New DataFrame for groupnig values\n",
    "gdf = pd.DataFrame()\n",
    "gdf['dr_Foreclosure_Ind'] = df['dr_Foreclosure_Ind']"
   ]
  },
  {
   "cell_type": "code",
   "execution_count": null,
   "metadata": {
    "colab": {},
    "colab_type": "code",
    "id": "PqxY1qyueRIo"
   },
   "outputs": [],
   "source": [
    "# Manual grouping function\n",
    "def m_grp(col, bins):\n",
    "  bin = bins + [df[col].max()]\n",
    "  labels = bin[:-1]\n",
    "  gdf[col] = pd.cut(df[col], bin, labels = labels, include_lowest=True).astype(str)\n",
    "  \n",
    "# Natural grouping function\n",
    "def n_grp(col, min, max, interval):\n",
    "  bin = list(range(min, max, interval)) + [df[col].max()]\n",
    "  labels = bin[:-1]\n",
    "#   labels = list(range(len(bin)-1))\n",
    "  gdf[col] = pd.cut(df[col], bin, labels=labels, include_lowest=True).astype(str)\n",
    "  \n",
    "#Equal grouping\n",
    "# function\n",
    "def e_grp(col, bins):\n",
    "  spc = np.linspace(df[col].min(), df[col].max(), bins).tolist()\n",
    "  bin = [round(x,2) for x in spc]\n",
    "  labels = bin[:-1]\n",
    "  gdf[col] = pd.cut(df[col], bin, labels=labels, include_lowest=True).astype(str)"
   ]
  },
  {
   "cell_type": "code",
   "execution_count": null,
   "metadata": {
    "colab": {},
    "colab_type": "code",
    "id": "AkPqZzs4eTjd"
   },
   "outputs": [],
   "source": [
    "#1.Mortgage1Amount\n",
    "m_grp('Mortgage1Amount', [0, 50000, 100000, 200000, 300000, 400000, 500000])\n",
    "gdf.loc[gdf['Mortgage1Amount'] == 'nan', 'Mortgage1Amount'] = 'NA'\n",
    "gdf.loc[gdf['Mortgage1Amount'] == '0.0', 'Mortgage1Amount'] = 'NA'\n",
    "gdf.loc[gdf['Mortgage1Amount'] == '50000.0', 'Mortgage1Amount'] = 'LT50K'\n",
    "gdf.loc[gdf['Mortgage1Amount'] == '100000.0', 'Mortgage1Amount'] = '100-200K'\n",
    "gdf.loc[gdf['Mortgage1Amount'] == '200000.0', 'Mortgage1Amount'] = '200K-300K'\n",
    "gdf.loc[gdf['Mortgage1Amount'] == '300000.0', 'Mortgage1Amount'] = '300K-400K'\n",
    "gdf.loc[gdf['Mortgage1Amount'] == '400000.0', 'Mortgage1Amount'] = '400K-500K'\n",
    "gdf.loc[gdf['Mortgage1Amount'] == '500000.0', 'Mortgage1Amount'] = 'GT500K'\n",
    "\n",
    "#2. 'AreaBuilding'\n",
    "m_grp('AreaBuilding', [0, 500, 1000, 1500, 2000, 3000])\n",
    "gdf.loc[gdf['AreaBuilding'] == 'nan', 'AreaBuilding'] = 'NA'\n",
    "gdf.loc[gdf['AreaBuilding'] == '0.0', 'AreaBuilding'] = 'NA'\n",
    "gdf.loc[gdf['AreaBuilding'] == '500.0', 'AreaBuilding'] = 'LT500SQFT'\n",
    "gdf.loc[gdf['AreaBuilding'] == '1000.0', 'AreaBuilding'] = '500-1000SQFT'\n",
    "gdf.loc[gdf['AreaBuilding'] == '1500.0', 'AreaBuilding'] = '1000-1500SQFT'\n",
    "gdf.loc[gdf['AreaBuilding'] == '2000.0', 'AreaBuilding'] = '1500-2000SQFT'\n",
    "gdf.loc[gdf['AreaBuilding'] == '3000.0', 'AreaBuilding'] = 'LT3000SQFT'\n",
    "\n",
    "#3.RoomsCount\n",
    "m_grp('RoomsCount', [0, 5, 6, 8, 11, 12])\n",
    "gdf.loc[gdf['RoomsCount'] == 'nan', 'RoomsCount'] = 'NA'\n",
    "gdf.loc[gdf['RoomsCount'] == '0.0', 'RoomsCount'] = 'NA'\n",
    "gdf.loc[gdf['RoomsCount'] == '5.0', 'RoomsCount'] = 'LT5'\n",
    "gdf.loc[gdf['RoomsCount'] == '6.0', 'RoomsCount'] = '5-6'\n",
    "gdf.loc[gdf['RoomsCount'] == '8.0', 'RoomsCount'] = '7-8'\n",
    "gdf.loc[gdf['RoomsCount'] == '11.0', 'RoomsCount'] = '8-11'\n",
    "gdf.loc[gdf['RoomsCount'] == '12.0', 'RoomsCount'] = 'GT12'\n",
    "\n",
    "#4. E_SQMILES\n",
    "m_grp('E_SQMILES', [0, 2, 5, 10, 20, 50]) #median 9.27\n",
    "\n",
    "gdf.loc[gdf['E_SQMILES'] == 'nan', 'E_SQMILES'] = 'NA'\n",
    "gdf.loc[gdf['E_SQMILES'] == '0.0', 'E_SQMILES'] = 'NA'\n",
    "gdf.loc[gdf['E_SQMILES'] == '2.0', 'E_SQMILES'] = 'LT500SQML'\n",
    "gdf.loc[gdf['E_SQMILES'] == '5.0', 'E_SQMILES'] = '500-1000SQML'\n",
    "gdf.loc[gdf['E_SQMILES'] == '10.0','E_SQMILES'] = '1000-1500SQML'\n",
    "gdf.loc[gdf['E_SQMILES'] == '20.0','E_SQMILES'] = '1500-2000SQML'\n",
    "gdf.loc[gdf['E_SQMILES'] == '50.0','E_SQMILES'] = 'LT3000SQML'\n",
    "\n",
    "#5.E_DENSITY\n",
    "m_grp('E_DENSITY', [0, 100, 500, 1000, 2500, 5000, 10000, 40000]) #med 2647.1\n",
    "gdf.loc[gdf['E_DENSITY'] == 'nan', 'E_DENSITY'] = 'NA'\n",
    "gdf.loc[gdf['E_DENSITY'] == '0.0', 'E_DENSITY'] = 'NA'\n",
    "\n",
    "#6. E_MED_BLT\n",
    "m_grp('E_MED_BLT', [0, 1900, 1910, 1920, 1930, 1940, 1950, 1960 , 1970, 1980]) #med 1955.0\n",
    "#gdf.loc[gdf['E_MED_BLT'] == '0', 'E_MED_BLT'] = 'NA'\n",
    "\n",
    "\n",
    "#7.'E_MEDAGE'\n",
    "m_grp('E_MEDAGE', [0, 25, 35, 45, 55]) #gen Z, millenial, gen x, boomer\n",
    "#gdf.loc[gdf['E_MEDAGE'] == 'nan', 'E_MEDAGE'] = 'NA'\n",
    "\n",
    "#8.'E_MEDHHSIZE'\n",
    "m_grp('E_MEDHHSIZE', [0, 1, 1.5, 2, 2.5, 3, 3.5, 4]) #median 2.5\n",
    "gdf.loc[gdf['E_MEDHHSIZE'] == 'nan', 'E_MEDHHSIZE'] = 'NA'\n",
    "gdf.loc[gdf['E_MEDHHSIZE'] == '0.0', 'E_MEDHHSIZE'] = 'NA'\n",
    "\n",
    "\n",
    "#9. dr_PERC_VACUNIT'\n",
    "m_grp('dr_PERC_VACUNIT', [0, 2, 4, 6, 8, 10, 12, 14, 16]) #median 7.07\n",
    "\n",
    "gdf.loc[gdf['dr_PERC_VACUNIT'] == 'nan', 'dr_PERC_VACUNIT'] = 'NA'\n",
    "gdf.loc[gdf['dr_PERC_VACUNIT'] == '0.0', 'dr_PERC_VACUNIT'] = 'NA'\n",
    "\n",
    "\n",
    "#10. dr_MktValueToIncome\n",
    "# Rebin\n",
    "m_grp('dr_MktValueToIncome', [0, .5, 1, 2, 4, 6, 8, 10, 20]) #median 3.05\n",
    "\n",
    "gdf.loc[gdf['dr_MktValueToIncome'] == 'nan', 'dr_MktValueToIncome'] = 'NA'\n",
    "gdf.loc[gdf['dr_MktValueToIncome'] == '0.0', 'dr_MktValueToIncome'] = 'NA'\n",
    "\n",
    "#11. dr_DepthToWidth'\n",
    "m_grp('dr_DepthToWidth', [0, 1, 2, 3, 4, 5, 10, 20]) #med 2.3\n",
    "\n",
    "gdf.loc[gdf['dr_DepthToWidth'] == 'nan', 'dr_DepthToWidth'] = 'NA'\n",
    "gdf.loc[gdf['dr_DepthToWidth'] == '0.0', 'dr_DepthToWidth'] = 'NA'\n",
    "\"\"\"\n",
    "gdf.loc[gdf['AreaBuilding'] == '500.0', 'AreaBuilding'] = 'LT500SQFT'\n",
    "gdf.loc[gdf['AreaBuilding'] == '1000.0', 'AreaBuilding'] = '500-1000SQFT'\n",
    "gdf.loc[gdf['AreaBuilding'] == '1500.0', 'AreaBuilding'] = '1000-1500SQFT'\n",
    "gdf.loc[gdf['AreaBuilding'] == '2000.0', 'AreaBuilding'] = '1500-2000SQFT'\n",
    "gdf.loc[gdf['AreaBuilding'] == '3000.0', 'AreaBuilding'] = 'LT3000SQFT'\n",
    "\"\"\"\n",
    "\n",
    "#12. 'dr_Annual_PopGrowth10\n",
    "m_grp('dr_Annual_PopGrowth10', [-4,-2,-1,-0.5,0,0.5,1,2,4])\n",
    "gdf.loc[gdf['dr_Annual_PopGrowth10'] == 'nan', 'dr_Annual_PopGrowth10'] = 'NA'\n",
    "\n",
    "\n",
    "#13. 'StatusOwnerOccupiedFlag\n",
    "gdf['StatusOwnerOccupiedFlag'] = df['StatusOwnerOccupiedFlag'].astype(str)\n",
    "gdf.loc[gdf['StatusOwnerOccupiedFlag'] == 'nan', 'StatusOwnerOccupiedFlag'] = 'NA'\n",
    "\n",
    "# Alternative\n",
    "#14. 'TaxAssessedValueTotal\n",
    "n_grp('TaxAssessedValueTotal',0,250000,25000)\n",
    "# m_grp('TaxAssessedValueTotal', [0,25000,50000,75000,125000,150000,175000,200000,225000,250000]) #100000 is missing\n",
    "gdf.loc[gdf['TaxAssessedValueTotal'] == 'nan', 'TaxAssessedValueTotal'] = 'NA'\n",
    "gdf.loc[gdf['TaxAssessedValueTotal'] == '0.0', 'TaxAssessedValueTotal'] = 'NA'\n",
    "\n",
    "\n",
    "# Alternative\n",
    "#15. 'TaxAssessedValueImprovements\n",
    "n_grp('TaxAssessedValueImprovements', min = 0, max = 200000, interval=20000)\n",
    "# m_grp('TaxAssessedValueImprovements', [0,20000,40000,60000,80000,100000,120000,140000,160000,180000,200000])\n",
    "\n",
    "gdf.loc[gdf['TaxAssessedValueImprovements'] == 'nan', 'TaxAssessedValueImprovements'] = 'NA'\n",
    "gdf.loc[gdf['TaxAssessedValueImprovements'] == '0.0', 'TaxAssessedValueImprovements'] = 'NA'\n",
    "\n",
    "#16. 'TaxAssessedValueLand\n",
    "# n_grp('TaxAssessedValueLand', min = 0, max = 59000, interval=5900)\n",
    "\n",
    "m_grp('TaxAssessedValueLand', [0,5900,11800,17700,23600,29500,35400,41300,47200,53100,59000])\n",
    "\n",
    "gdf.loc[gdf['TaxAssessedValueLand'] == 'nan', 'TaxAssessedValueLand'] = 'NA'\n",
    "gdf.loc[gdf['TaxAssessedValueLand'] == '0.0', 'TaxAssessedValueLand'] = 'NA'\n",
    "\n",
    "#17. 'TaxAssessedImprovementsPerc\n",
    "m_grp('TaxAssessedImprovementsPerc', [0.0,11.11,22.22,33.33,44.44,55.56,66.67,77.78,88.89])\n",
    "\n",
    "gdf.loc[gdf['TaxAssessedImprovementsPerc'] == 'nan', 'TaxAssessedImprovementsPerc'] = 'NA'\n",
    "gdf.loc[gdf['TaxAssessedImprovementsPerc'] == '0.0', 'TaxAssessedImprovementsPerc'] = 'NA'\n",
    "\n",
    "\n",
    "#18. 'PreviousAssessedValue\n",
    "m_grp('PreviousAssessedValue', [0,25000,50000,75000,100000,125000,150000,175000,200000,225000,250000])\n",
    "\n",
    "gdf.loc[gdf['PreviousAssessedValue'] == 'nan', 'PreviousAssessedValue'] = 'NA'\n",
    "gdf.loc[gdf['PreviousAssessedValue'] == '0.0', 'PreviousAssessedValue'] = 'NA'\n",
    "\n",
    "#19. 'TaxMarketValueTotal\n",
    "m_grp('TaxMarketValueTotal', [0,70000,140000,210000,280000,350000,420000,490000,560000,630000,700000])\n",
    "\n",
    "gdf.loc[gdf['TaxMarketValueTotal'] == 'nan', 'TaxMarketValueTotal'] = 'NA'\n",
    "gdf.loc[gdf['TaxMarketValueTotal'] == '0.0', 'TaxMarketValueTotal'] = 'NA'\n",
    "\n",
    "#20. 'TaxMarketValueImprovements\n",
    "m_grp('TaxMarketValueImprovements', [0, 42000, 84000, 126000, 168000, 210000, 252000, 294000, 336000, 378000,420000])\n",
    "\n",
    "gdf.loc[gdf['TaxMarketValueImprovements'] == 'nan', 'TaxMarketValueImprovements'] = 'NA'\n",
    "gdf.loc[gdf['TaxMarketValueImprovements'] == '0.0', 'TaxMarketValueImprovements'] = 'NA'\n",
    "\n",
    "#21. 'TaxMarketValueLand\n",
    "m_grp('TaxMarketValueLand', [0, 21000, 42000, 63000, 84000, 105000, 126000, 147000, 168000, 189000,210000])\n",
    "\n",
    "gdf.loc[gdf['TaxMarketValueLand'] == 'nan', 'TaxMarketValueLand'] = 'NA'\n",
    "gdf.loc[gdf['TaxMarketValueLand'] == '0.0', 'TaxMarketValueLand'] = 'NA'\n",
    "\n",
    "#22. 'AssessorLastSaleAmount\n",
    "m_grp('AssessorLastSaleAmount', [0, 21000, 42000, 63000, 84000, 105000, 126000, 147000, 168000, 189000,210000])\n",
    "\n",
    "gdf.loc[gdf['AssessorLastSaleAmount'] == 'nan', 'AssessorLastSaleAmount'] = 'NA'\n",
    "gdf.loc[gdf['AssessorLastSaleAmount'] == '0.0', 'AssessorLastSaleAmount'] = 'NA'\n",
    "\n",
    "#23. 'E_POP10\n",
    "#m_grp('E_POP10', [0.0,9781.33,19562.67,29344.0,39125.33,48906.67,58688.0,68469.33,78250.67,88032.0])\n",
    "e_grp('E_POP10', 10)\n",
    "\n",
    "gdf.loc[gdf['E_POP10'] == '0.0', 'E_POP10'] = 'NA'\n",
    "\n",
    "#24. 'E_HH10\n",
    "e_grp('E_HH10', 10)\n",
    "gdf.loc[gdf['E_HH10'] == '0.0', 'E_HH10'] = 'NA'\n",
    "\n",
    "#25. 'E_FAMMAR18\n",
    "e_grp('E_FAMMAR18', 10)\n",
    "gdf.loc[gdf['E_FAMMAR18'] == '0.0', 'E_FAMMAR18'] = 'NA'\n",
    "\n",
    "#26. 'E_NONFAMHH - regrouped - from equal to manual\n",
    "m_grp('E_NONFAMHH', [0.0,2000.00,4000.00,6000.00,8000.00,10000.00])\n",
    "gdf.loc[gdf['E_NONFAMHH'] == '0.0', 'E_NONFAMHH'] = 'NA'\n",
    "\n",
    "#27. 'E_TRAVHOME\n",
    "e_grp('E_TRAVHOME', 10)\n",
    "gdf.loc[gdf['E_TRAVHOME'] == '0.0', 'E_TRAVHOME'] = 'NA'\n",
    "\n",
    "#28. 'E_OOCCHH\n",
    "e_grp('E_OOCCHH', 10)\n",
    "gdf.loc[gdf['E_OOCCHH'] == '0.0', 'E_OOCCHH'] = 'NA'\n",
    "\n",
    "#29. 'E_ROCCHH\n",
    "m_grp('E_ROCCHH', [0,2000,4000,6000,8000])\n",
    "gdf.loc[gdf['E_ROCCHH'] == '0.0', 'E_ROCCHH'] = 'NA'\n",
    "\n",
    "#30. E_MORTANY\n",
    "m_grp('E_MORTANY', [0,2000,4000,6000,8000])\n",
    "gdf.loc[gdf['E_MORTANY'] == '0.0', 'E_MORTANY'] = 'NA'\n",
    "\n",
    "#31. E_NOMORT\n",
    "m_grp('E_NOMORT', [0,1000,2000,3000,4000])\n",
    "\n",
    "#33. E_MEDVALOCC\n",
    "#e_grp('E_MEDVALOCC', 10)\n",
    "#gdf.loc[gdf['E_MEDVALOCC'] == '0.0', 'E_MEDVALOCC'] = 'NA'\n",
    "\n",
    "# 34.E_MEDHHINC\n",
    "e_grp('E_MEDHHINC', 10)\n",
    "\n",
    "# 35.dr_PERC_ASSO_ABOVE\n",
    "e_grp('dr_PERC_ASSO_ABOVE', 10)\n",
    "gdf.loc[gdf['dr_PERC_ASSO_ABOVE'] == 'nan', 'dr_PERC_ASSO_ABOVE'] = 'NA'\n",
    "gdf.loc[gdf['dr_PERC_ASSO_ABOVE'] == '0.0', 'dr_PERC_ASSO_ABOVE'] = 'NA'\n",
    "\n",
    "#38. dr_Condo_Ind\n",
    "gdf['dr_Condo_Ind'] = df['dr_Condo_Ind'].astype(str)\n",
    "gdf.loc[gdf['dr_Condo_Ind'] == 'nan', 'dr_Condo_Ind'] = 'NA'\n",
    "\n",
    "#39. dr_Ownership_Period\n",
    "n_grp('dr_Ownership_Period', min = 0, max = 16, interval=2)\n",
    "gdf.loc[gdf['dr_Ownership_Period'] == 'nan', 'dr_Ownership_Period'] = 'NA'\n",
    "\n",
    "#40. dr_House_Age\n",
    "n_grp('dr_House_Age', min = 1, max = 120, interval=12)\n",
    "gdf.loc[gdf['dr_House_Age'] == 'nan', 'dr_House_Age'] = 'NA'\n",
    "\n",
    "#41. dr_Value_Change\n",
    "gdf['dr_Value_Change'] = df['dr_Value_Change'].astype(str)\n",
    "gdf.loc[gdf['dr_Value_Change'] == 'nan', 'dr_Value_Change'] = 'NA'\n",
    "\n",
    "\n",
    "#43. X_PERC_CDPD60\n",
    "e_grp('X_PERC_CDPD60',10)\n",
    "\n",
    "gdf.loc[gdf['X_PERC_CDPD60'] == 'nan', 'X_PERC_CDPD60'] = 'NA'\n",
    "gdf.loc[gdf['X_PERC_CDPD60'] == '0.0', 'X_PERC_CDPD60'] = 'NA'\n",
    "\n",
    "#44. X_PERC_CForeclosure\n",
    "m_grp('X_PERC_CForeclosure', [0,1,2,3,4,5])\n",
    "\n",
    "gdf.loc[gdf['X_PERC_CForeclosure'] == 'nan', 'X_PERC_CForeclosure'] = 'NA'\n",
    "gdf.loc[gdf['X_PERC_CForeclosure'] == '0.0', 'X_PERC_CForeclosure'] = 'NA'\n",
    "\n",
    "\n",
    "#45. X_PERC_CDerogatory\n",
    "e_grp('X_PERC_CDerogatory',10)\n",
    "\n",
    "gdf.loc[gdf['X_PERC_CDerogatory'] == 'nan', 'X_PERC_CDerogatory'] = 'NA'\n",
    "gdf.loc[gdf['X_PERC_CDerogatory'] == '0.0', 'X_PERC_CDerogatory'] = 'NA'\n",
    "\n",
    "#46. X_PERC_CBankruptcy\n",
    "m_grp('X_PERC_CBankruptcy', [0,1,2,3,4,5])\n",
    "\n",
    "gdf.loc[gdf['X_PERC_CBankruptcy'] == 'nan', 'X_PERC_CBankruptcy'] = 'NA'\n",
    "gdf.loc[gdf['X_PERC_CBankruptcy'] == '0.0', 'X_PERC_CBankruptcy'] = 'NA'\n",
    "\n",
    "#47. X_PERC_MDPD60\n",
    "m_grp('X_PERC_MDPD60', [0,1,2,3,4,5])\n",
    "\n",
    "gdf.loc[gdf['X_PERC_MDPD60'] == 'nan', 'X_PERC_MDPD60'] = 'NA'\n",
    "gdf.loc[gdf['X_PERC_MDPD60'] == '0.0', 'X_PERC_MDPD60'] = 'NA'\n",
    "\n",
    "#48. X_PERC_MDerogatory\n",
    "m_grp('X_PERC_MDerogatory', [0,1,2,3,4,5])\n",
    "\n",
    "gdf.loc[gdf['X_PERC_MDerogatory'] == 'nan', 'X_PERC_MDerogatory'] = 'NA'\n",
    "gdf.loc[gdf['X_PERC_MDerogatory'] == '0.0', 'X_PERC_MDerogatory'] = 'NA'\n",
    "\n",
    "#49. X_PERC_MBankruptcy\n",
    "m_grp('X_PERC_MBankruptcy', [0,1,2,3,4,5])\n",
    "\n",
    "gdf.loc[gdf['X_PERC_MBankruptcy'] == 'nan', 'X_PERC_MBankruptcy'] = 'NA'\n",
    "gdf.loc[gdf['X_PERC_MBankruptcy'] == '0.0', 'X_PERC_MBankruptcy'] = 'NA'\n",
    "\n",
    "#50. X_Bankruptcy_Index\n",
    "m_grp('X_Bankruptcy_Index', [0,270,275,280,285,290,295])\n",
    "\n",
    "gdf.loc[gdf['X_Bankruptcy_Index'] == 'nan', 'X_Bankruptcy_Index'] = 'NA'\n",
    "gdf.loc[gdf['X_Bankruptcy_Index'] == '0.0', 'X_Bankruptcy_Index'] = 'NA'\n",
    "\n",
    "#51. X_Risk_Score\n",
    "m_grp('X_Risk_Score', [0,500,600,700,800])\n",
    "#e_grp('X_Risk_Score', 9)\n",
    "\n",
    "gdf.loc[gdf['X_Risk_Score'] == 'nan', 'X_Risk_Score'] = 'NA'\n",
    "gdf.loc[gdf['X_Risk_Score'] == '0.0', 'X_Risk_Score'] = 'NA'\n",
    "\n",
    "\n",
    "#52. X_Vantage_Score\n",
    "#e_grp('X_Vantage_Score', 9)\n",
    "m_grp('X_Vantage_Score', [0,600,700,800,900])\n",
    "\n",
    "gdf.loc[gdf['X_Vantage_Score'] == 'nan', 'X_Vantage_Score'] = 'NA'\n",
    "gdf.loc[gdf['X_Vantage_Score'] == '0.0', 'X_Vantage_Score'] = 'NA'\n",
    "\n",
    "#53. E_MEDRENT\n",
    "m_grp('E_MEDRENT', [0,200,400,600,800])\n",
    "\n",
    "gdf.loc[gdf['E_MEDRENT'] == 'nan', 'E_MEDRENT'] = 'NA'\n",
    "gdf.loc[gdf['E_MEDRENT'] == '0', 'E_MEDRENT'] = 'NA'\n",
    "\n",
    "\n",
    "#54. dr_TRAVLTIME\n",
    "m_grp('dr_TRAVLTIME', [0.00,20.00,25.00,30.00,35.00,40.00,45.00])\n",
    "\n",
    "gdf.loc[gdf['dr_TRAVLTIME'] == 'nan', 'dr_TRAVLTIME'] = 'NA'\n",
    "gdf.loc[gdf['dr_TRAVLTIME'] == '0.0', 'dr_TRAVLTIME'] = 'NA'"
   ]
  },
  {
   "cell_type": "code",
   "execution_count": null,
   "metadata": {
    "colab": {
     "base_uri": "https://localhost:8080/",
     "height": 224
    },
    "colab_type": "code",
    "id": "qlWiMkjHYy-H",
    "outputId": "7f33661a-4680-4af1-8dfb-83006febfb24"
   },
   "outputs": [],
   "source": [
    "gdf.head()"
   ]
  },
  {
   "cell_type": "code",
   "execution_count": null,
   "metadata": {
    "colab": {},
    "colab_type": "code",
    "id": "wrC1xgEntiib"
   },
   "outputs": [],
   "source": [
    "#del df due to memory issue\n",
    "del df"
   ]
  },
  {
   "cell_type": "code",
   "execution_count": null,
   "metadata": {
    "colab": {},
    "colab_type": "code",
    "id": "3ndN2mh4mghI"
   },
   "outputs": [],
   "source": [
    "# from sklearn.model_selection import train_test_split\n",
    "# X = df.drop('dr_Foreclosure_Ind', axis=1)\n",
    "# y = df['dr_Foreclosure_Ind']\n",
    "# X_train, X_test, y_train, y_test = train_test_split(X, y, test_size=0.4)"
   ]
  },
  {
   "cell_type": "code",
   "execution_count": null,
   "metadata": {
    "colab": {
     "base_uri": "https://localhost:8080/",
     "height": 73
    },
    "colab_type": "code",
    "id": "8mWUxh3LGadw",
    "outputId": "27d048ef-c047-4382-cbd2-347ed2370959"
   },
   "outputs": [],
   "source": [
    "from imblearn.over_sampling import SMOTENC\n",
    "smote_nc = SMOTENC(categorical_features=[0,1], random_state=0)\n",
    "\n",
    "X_train, y_train = smote_nc.fit_resample(X_train, y_train)"
   ]
  },
  {
   "cell_type": "code",
   "execution_count": null,
   "metadata": {
    "colab": {},
    "colab_type": "code",
    "id": "tw3C8yCi4-OO"
   },
   "outputs": [],
   "source": [
    "col = gdf.columns.tolist()"
   ]
  },
  {
   "cell_type": "code",
   "execution_count": null,
   "metadata": {
    "colab": {},
    "colab_type": "code",
    "id": "OtmWHtCL5A6H"
   },
   "outputs": [],
   "source": [
    "df = df[col]"
   ]
  },
  {
   "cell_type": "code",
   "execution_count": null,
   "metadata": {
    "colab": {
     "base_uri": "https://localhost:8080/",
     "height": 204
    },
    "colab_type": "code",
    "id": "gak9c9IC3C9U",
    "outputId": "81d47298-72fa-48db-c0e9-ef199e5c03b1"
   },
   "outputs": [],
   "source": [
    "# Get the missing value for each independent variables from the dataset\n",
    "missing = pd.DataFrame(df.isna().sum(), columns = ['count'])\n",
    "missing['percent']  = missing/len(df)\n",
    "missing = missing.sort_values(['percent'], ascending=False)\n",
    "missing.head()"
   ]
  },
  {
   "cell_type": "code",
   "execution_count": null,
   "metadata": {
    "colab": {},
    "colab_type": "code",
    "id": "JQVaCB4_3DhO"
   },
   "outputs": [],
   "source": [
    "# Drop variables having missing value over 40%\n",
    "# df = df.drop(['AssessorPriorSaleAmount', 'TaxMarketImprovementsPerc'], axis = 1)\n",
    "# missing = missing.drop(['AssessorPriorSaleAmount', 'TaxMarketImprovementsPerc'])\n",
    "# Arrange Missing value again\n",
    "missing = pd.DataFrame(df.isna().sum(), columns = ['count'])\n",
    "missing['percent']  = missing/len(df)\n",
    "missing = missing.sort_values(['percent'], ascending=False)"
   ]
  },
  {
   "cell_type": "code",
   "execution_count": null,
   "metadata": {
    "colab": {},
    "colab_type": "code",
    "id": "FhCjDpLC2bDt"
   },
   "outputs": [],
   "source": [
    "# Get index if NA is not 0\n",
    "missing_name = missing[missing['count'] != 0].index.values.tolist(); missing_name\n",
    "\n",
    "# # Impute missing values\n",
    "for i in missing_name:\n",
    "    df[i] = df[i].fillna(value=df[i].median())"
   ]
  },
  {
   "cell_type": "code",
   "execution_count": null,
   "metadata": {
    "colab": {},
    "colab_type": "code",
    "id": "KTsIPvX62zgl"
   },
   "outputs": [],
   "source": [
    "from sklearn.model_selection import train_test_split\n",
    "X = df.drop('dr_Foreclosure_Ind', axis=1)\n",
    "y = df['dr_Foreclosure_Ind']\n",
    "X = X.astype('category')\n",
    "X_train, X_test, y_train, y_test = train_test_split(X, y, test_size=0.4)"
   ]
  },
  {
   "cell_type": "code",
   "execution_count": null,
   "metadata": {
    "colab": {},
    "colab_type": "code",
    "id": "qWW4myjE3ZjW"
   },
   "outputs": [],
   "source": [
    "lgb_train = lgb.Dataset(X_train, y_train)\n",
    "lgb_test = lgb.Dataset(X_test, y_test, reference = lgb_train)"
   ]
  },
  {
   "cell_type": "code",
   "execution_count": null,
   "metadata": {
    "colab": {},
    "colab_type": "code",
    "id": "8jjUEXwn3gVP"
   },
   "outputs": [],
   "source": [
    "# LGBM 1\n",
    "params = {\n",
    "    'task': 'train',\n",
    "    'objective': 'binary',\n",
    "    'metric': 'auc',\n",
    "    'verbose' : 100\n",
    "}"
   ]
  },
  {
   "cell_type": "code",
   "execution_count": null,
   "metadata": {
    "colab": {
     "base_uri": "https://localhost:8080/",
     "height": 1000
    },
    "colab_type": "code",
    "id": "Dx-tttj73rX8",
    "outputId": "c2d5de6d-3f11-4eef-c52c-d67ee74fe2fb"
   },
   "outputs": [],
   "source": [
    "lgbm = lgb.train(params, \n",
    "                 lgb_train, \n",
    "                 num_boost_round=500,\n",
    "                 early_stopping_rounds = 100,\n",
    "                 valid_sets=[lgb_train, lgb_test],\n",
    "                 valid_names=['train', 'test']                 \n",
    "                 )"
   ]
  },
  {
   "cell_type": "code",
   "execution_count": null,
   "metadata": {
    "colab": {},
    "colab_type": "code",
    "id": "qjRPrPJk3zp-"
   },
   "outputs": [],
   "source": [
    "pred = lgbm.predict(X_test)\n",
    "pred = pd.Series(pred)\n",
    "pred = pred.apply(lambda x: 1 if x>=.5 else 0)\n",
    "print(confusion_matrix(pred, y_test))"
   ]
  },
  {
   "cell_type": "code",
   "execution_count": null,
   "metadata": {
    "colab": {
     "base_uri": "https://localhost:8080/",
     "height": 35
    },
    "colab_type": "code",
    "id": "sk2tucfS54aB",
    "outputId": "c0f15864-5933-4589-a9ca-091147828db1"
   },
   "outputs": [],
   "source": [
    "(180+4918)/(180+4918+71772+302)"
   ]
  },
  {
   "cell_type": "code",
   "execution_count": null,
   "metadata": {
    "colab": {
     "base_uri": "https://localhost:8080/",
     "height": 377
    },
    "colab_type": "code",
    "id": "FL981NBb5bkU",
    "outputId": "4e18d539-e402-4fbe-b583-e0b5c0969fe7"
   },
   "outputs": [],
   "source": [
    "# LGBM2\n",
    "\n",
    "clf = lgb.LGBMClassifier(num_leaves= 15, max_depth=-1, \n",
    "                         random_state=314, \n",
    "                         silent=True, \n",
    "                         metric='None', \n",
    "                         n_jobs=4, \n",
    "                         n_estimators=1000,\n",
    "                         colsample_bytree=0.9,\n",
    "                         subsample=0.9,\n",
    "                         learning_rate=0.01)\n",
    "\n",
    "fit_params={\"early_stopping_rounds\":1000, \n",
    "            \"eval_metric\" : 'auc', \n",
    "            \"eval_set\" : [(X_test,y_test)],\n",
    "            'eval_names': ['valid'],\n",
    "            'verbose': 100,\n",
    "            'feature_name': 'auto', # that's actually the default\n",
    "            'categorical_feature': 'auto' # that's actually the default\n",
    "           }\n",
    "\n",
    "clf.fit(X_train, y_train, **fit_params)"
   ]
  },
  {
   "cell_type": "code",
   "execution_count": null,
   "metadata": {
    "colab": {
     "base_uri": "https://localhost:8080/",
     "height": 53
    },
    "colab_type": "code",
    "id": "4zgJqufj6MJD",
    "outputId": "69742f05-aabb-4c38-9782-a0ed5906a4f5"
   },
   "outputs": [],
   "source": [
    "pred = clf.predict(X_test)\n",
    "print(confusion_matrix(pred, y_test))"
   ]
  },
  {
   "cell_type": "code",
   "execution_count": null,
   "metadata": {
    "colab": {
     "base_uri": "https://localhost:8080/",
     "height": 179
    },
    "colab_type": "code",
    "id": "mBf9Or7o6yRo",
    "outputId": "339dfba4-1d16-46e5-a0f8-50430aab8827"
   },
   "outputs": [],
   "source": [
    "# LGBM 3\n",
    "\n",
    "fit_params = {\n",
    "    \"objective\": \"binary\",\n",
    "    \"metric\": \"binary_error\",\n",
    "    \"boosting\": 'gbdt',\n",
    "    \"max_depth\": -1,\n",
    "    \"num_leaves\": 13,\n",
    "    \"learning_rate\": 0.01,\n",
    "    \"bagging_freq\": 5,\n",
    "    \"bagging_fraction\": 0.4,\n",
    "    \"feature_fraction\": 0.05,\n",
    "    \"min_data_in_leaf\": 80,\n",
    "    \"min_sum_heassian_in_leaf\": 10,\n",
    "    \"tree_learner\": \"serial\",\n",
    "    \"boost_from_average\": \"false\",\n",
    "    # \"lambda_l1\" : 5,\n",
    "    # \"lambda_l2\" : 5,\n",
    "    \"bagging_seed\": 314,\n",
    "    \"verbosity\": 1,\n",
    "    \"seed\": 314\n",
    "}\n",
    "\n",
    "\n",
    "evals_result = {}\n",
    "lgb_clf = lgb.train(fit_params,\n",
    "                            lgb_train,\n",
    "                            100000,\n",
    "                            valid_sets=[lgb_train, lgb_test],\n",
    "                            early_stopping_rounds=3000,\n",
    "                            verbose_eval=1000,\n",
    "                            evals_result=evals_result\n",
    "                            )"
   ]
  },
  {
   "cell_type": "code",
   "execution_count": null,
   "metadata": {
    "colab": {
     "base_uri": "https://localhost:8080/",
     "height": 53
    },
    "colab_type": "code",
    "id": "4wfu1xUs66mp",
    "outputId": "372db910-ea91-4d91-c2fd-84f6e6f5ef6c"
   },
   "outputs": [],
   "source": [
    "pred = lgb_clf.predict(X_test)\n",
    "pred = pd.Series(pred)\n",
    "pred = pred.apply(lambda x: 1 if x>=.5 else 0)\n",
    "print(confusion_matrix(pred, y_test))"
   ]
  }
 ],
 "metadata": {
  "accelerator": "GPU",
  "colab": {
   "collapsed_sections": [],
   "machine_shape": "hm",
   "name": "spruce_test.ipynb",
   "provenance": [],
   "version": "0.3.2"
  },
  "kernelspec": {
   "display_name": "conda_python3",
   "language": "python",
   "name": "conda_python3"
  }
 },
 "nbformat": 4,
 "nbformat_minor": 1
}
